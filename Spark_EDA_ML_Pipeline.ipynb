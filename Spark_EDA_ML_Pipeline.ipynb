{
 "cells": [
  {
   "cell_type": "code",
   "execution_count": 2,
   "metadata": {},
   "outputs": [],
   "source": [
    "from pyspark.sql import SparkSession\n",
    "from pyspark.sql.types import *\n",
    "from pyspark.sql.functions import *\n",
    "spark = (SparkSession.builder.appName(\"\")\\\n",
    ".config(\"hive.metastore.uris\",\"thrift://ip-10-1-2-24.ap-south-1.compute.internal:9083\")\\\n",
    ".enableHiveSupport().getOrCreate())"
   ]
  },
  {
   "cell_type": "code",
   "execution_count": 3,
   "metadata": {},
   "outputs": [],
   "source": [
    "import numpy as np\n",
    "import matplotlib.pyplot as plt\n",
    "import seaborn as sns\n",
    "import pandas as pd"
   ]
  },
  {
   "cell_type": "markdown",
   "metadata": {},
   "source": [
    "# EXPLORATORY DATA ANALYSIS"
   ]
  },
  {
   "cell_type": "code",
   "execution_count": 4,
   "metadata": {},
   "outputs": [
    {
     "name": "stdout",
     "output_type": "stream",
     "text": [
      "++\n",
      "||\n",
      "++\n",
      "++\n",
      "\n"
     ]
    }
   ],
   "source": [
    "spark.sql('use db_kushi').show()"
   ]
  },
  {
   "cell_type": "code",
   "execution_count": 5,
   "metadata": {},
   "outputs": [
    {
     "name": "stdout",
     "output_type": "stream",
     "text": [
      "+--------+------------+-----------+\n",
      "|database|   tableName|isTemporary|\n",
      "+--------+------------+-----------+\n",
      "|db_kushi| departments|      false|\n",
      "|db_kushi|    dept_emp|      false|\n",
      "|db_kushi|dept_manager|      false|\n",
      "|db_kushi|   employees|      false|\n",
      "|db_kushi|    salaries|      false|\n",
      "|db_kushi|      titles|      false|\n",
      "+--------+------------+-----------+\n",
      "\n"
     ]
    }
   ],
   "source": [
    "spark.sql(\"show tables\").show()"
   ]
  },
  {
   "cell_type": "code",
   "execution_count": 6,
   "metadata": {},
   "outputs": [
    {
     "name": "stdout",
     "output_type": "stream",
     "text": [
      "+-------+------------------+\n",
      "|dept_no|         dept_name|\n",
      "+-------+------------------+\n",
      "|   d001|         Marketing|\n",
      "|   d002|           Finance|\n",
      "|   d003|   Human Resources|\n",
      "|   d004|        Production|\n",
      "|   d005|       development|\n",
      "|   d006|Quality Management|\n",
      "|   d007|             Sales|\n",
      "|   d008|          Research|\n",
      "|   d009|  Customer Service|\n",
      "+-------+------------------+\n",
      "\n"
     ]
    }
   ],
   "source": [
    "departments = spark.sql(\"select * from db_kushi.departments\")\n",
    "departments.show()"
   ]
  },
  {
   "cell_type": "code",
   "execution_count": 7,
   "metadata": {},
   "outputs": [
    {
     "name": "stdout",
     "output_type": "stream",
     "text": [
      "+------+------------+----------+----------+-----------+---+----------+--------------+-----------------------+-----+----------+\n",
      "|emp_no|emp_title_id|birth_date|first_name|  last_name|sex| hire_date|no_of_projects|Last_performance_rating|left_| last_date|\n",
      "+------+------------+----------+----------+-----------+---+----------+--------------+-----------------------+-----+----------+\n",
      "|\n",
      "|\n",
      "|\n",
      "|\n",
      "|\n",
      "|\n",
      "|\n",
      "|\n",
      "|\n",
      "|\n",
      "|\n",
      "|\n",
      "|\n",
      "|\n",
      "|\n",
      "|\n",
      "|\n",
      "|\n",
      "|\n",
      "|\n",
      "+------+------------+----------+----------+-----------+---+----------+--------------+-----------------------+-----+----------+\n",
      "only showing top 20 rows\n",
      "\n"
     ]
    }
   ],
   "source": [
    "employees = spark.sql(\"select * from db_kushi.employees\")\n",
    "employees.show()"
   ]
  },
  {
   "cell_type": "code",
   "execution_count": 8,
   "metadata": {},
   "outputs": [
    {
     "name": "stdout",
     "output_type": "stream",
     "text": [
      "+------+-------+\n",
      "|emp_no|dept_no|\n",
      "+------+-------+\n",
      "| 10001|   d005|\n",
      "| 10002|   d007|\n",
      "| 10003|   d004|\n",
      "| 10004|   d004|\n",
      "| 10005|   d003|\n",
      "| 10006|   d005|\n",
      "| 10007|   d008|\n",
      "| 10008|   d005|\n",
      "| 10009|   d006|\n",
      "| 10010|   d004|\n",
      "| 10010|   d006|\n",
      "| 10011|   d009|\n",
      "| 10012|   d005|\n",
      "| 10013|   d003|\n",
      "| 10014|   d005|\n",
      "| 10015|   d008|\n",
      "| 10016|   d007|\n",
      "| 10017|   d001|\n",
      "| 10018|   d004|\n",
      "| 10018|   d005|\n",
      "+------+-------+\n",
      "only showing top 20 rows\n",
      "\n"
     ]
    }
   ],
   "source": [
    "dept_emp= spark.sql(\"select * from db_kushi.dept_emp\")\n",
    "dept_emp.show()"
   ]
  },
  {
   "cell_type": "code",
   "execution_count": 9,
   "metadata": {},
   "outputs": [
    {
     "name": "stdout",
     "output_type": "stream",
     "text": [
      "+-------+------+\n",
      "|dept_no|emp_no|\n",
      "+-------+------+\n",
      "|   d001|110022|\n",
      "|   d001|110039|\n",
      "|   d002|110085|\n",
      "|   d002|110114|\n",
      "|   d003|110183|\n",
      "|   d003|110228|\n",
      "|   d004|110303|\n",
      "|   d004|110344|\n",
      "|   d004|110386|\n",
      "|   d004|110420|\n",
      "|   d005|110511|\n",
      "|   d005|110567|\n",
      "|   d006|110725|\n",
      "|   d006|110765|\n",
      "|   d006|110800|\n",
      "|   d006|110854|\n",
      "|   d007|111035|\n",
      "|   d007|111133|\n",
      "|   d008|111400|\n",
      "|   d008|111534|\n",
      "+-------+------+\n",
      "only showing top 20 rows\n",
      "\n"
     ]
    }
   ],
   "source": [
    "dept_manager= spark.sql(\"select * from db_kushi.dept_manager\")\n",
    "dept_manager.show()"
   ]
  },
  {
   "cell_type": "code",
   "execution_count": 10,
   "metadata": {},
   "outputs": [
    {
     "name": "stdout",
     "output_type": "stream",
     "text": [
      "+--------+------------------+\n",
      "|title_id|             title|\n",
      "+--------+------------------+\n",
      "|   e0001|Assistant Engineer|\n",
      "|   e0002|          Engineer|\n",
      "|   e0003|   Senior Engineer|\n",
      "|   e0004|  Technique Leader|\n",
      "|   m0001|           Manager|\n",
      "|   s0001|             Staff|\n",
      "|   s0002|      Senior Staff|\n",
      "+--------+------------------+\n",
      "\n"
     ]
    }
   ],
   "source": [
    "titles = spark.sql(\"select * from db_kushi.titles\")\n",
    "titles.show()"
   ]
  },
  {
   "cell_type": "code",
   "execution_count": 11,
   "metadata": {
    "scrolled": false
   },
   "outputs": [
    {
     "name": "stdout",
     "output_type": "stream",
     "text": [
      "+------+------+\n",
      "|emp_no|salary|\n",
      "+------+------+\n",
      "| 10001| 60117|\n",
      "| 10002| 65828|\n",
      "| 10003| 40006|\n",
      "| 10004| 40054|\n",
      "| 10005| 78228|\n",
      "| 10006| 40000|\n",
      "| 10007| 56724|\n",
      "| 10008| 46671|\n",
      "| 10009| 60929|\n",
      "| 10010| 72488|\n",
      "| 10011| 42365|\n",
      "| 10012| 40000|\n",
      "| 10013| 40000|\n",
      "| 10014| 46168|\n",
      "| 10015| 40000|\n",
      "| 10016| 70889|\n",
      "| 10017| 71380|\n",
      "| 10018| 55881|\n",
      "| 10019| 44276|\n",
      "| 10020| 40000|\n",
      "+------+------+\n",
      "only showing top 20 rows\n",
      "\n"
     ]
    }
   ],
   "source": [
    "salaries = spark.sql(\"select * from db_kushi.salaries\")\n",
    "salaries.show()"
   ]
  },
  {
   "cell_type": "code",
   "execution_count": 12,
   "metadata": {},
   "outputs": [
    {
     "name": "stdout",
     "output_type": "stream",
     "text": [
      "+------+-----------+----------+---+------+\n",
      "|emp_no|  last_name|first_name|sex|salary|\n",
      "+------+-----------+----------+---+------+\n",
      "| 10001|    Facello|    Georgi|  M| 60117|\n",
      "| 10002|     Simmel|   Bezalel|  F| 65828|\n",
      "| 10003|    Bamford|     Parto|  M| 40006|\n",
      "| 10004|    Koblick| Chirstian|  M| 40054|\n",
      "| 10005|   Maliniak|   Kyoichi|  M| 78228|\n",
      "| 10006|    Preusig|    Anneke|  F| 40000|\n",
      "| 10007|  Zielinski|   Tzvetan|  F| 56724|\n",
      "| 10008|   Kalloufi|    Saniya|  M| 46671|\n",
      "| 10009|       Peac|    Sumant|  F| 60929|\n",
      "| 10010|   Piveteau| Duangkaew|  F| 72488|\n",
      "| 10011|      Sluis|      Mary|  F| 42365|\n",
      "| 10012|  Bridgland|  Patricio|  M| 40000|\n",
      "| 10013|     Terkki| Eberhardt|  M| 40000|\n",
      "| 10014|      Genin|     Berni|  M| 46168|\n",
      "| 10015|  Nooteboom|  Guoxiang|  M| 40000|\n",
      "| 10016|Cappelletti|  Kazuhito|  M| 70889|\n",
      "| 10017|  Bouloucos| Cristinel|  F| 71380|\n",
      "| 10018|       Peha|  Kazuhide|  F| 55881|\n",
      "| 10019|    Haddadi|   Lillian|  M| 44276|\n",
      "| 10020|    Warwick|    Mayuko|  M| 40000|\n",
      "+------+-----------+----------+---+------+\n",
      "only showing top 20 rows\n",
      "\n"
     ]
    }
   ],
   "source": [
    "##1 EXPLORATORY DATA ANALYSIS\n",
    "##1. A list showing employee number, last name, first name, sex, and salary for each employee\n",
    "\n",
    "spark.sql(\"select salaries.emp_no, employees.last_name, employees.first_name, employees.sex, salaries.salary from db_kusuma.employees inner join salaries on salaries.emp_no = employees.emp_no order by salaries.emp_no\").show()\n"
   ]
  },
  {
   "cell_type": "code",
   "execution_count": 13,
   "metadata": {
    "scrolled": true
   },
   "outputs": [
    {
     "name": "stdout",
     "output_type": "stream",
     "text": [
      "+------+---------+----------+----------+\n",
      "|emp_no|last_name|first_name| hire_date|\n",
      "+------+---------+----------+----------+\n",
      "| 10081|    Rosen|  Zhongwei|10/30/1986|\n",
      "| 10150|    Perng|  Zhenbing|11/16/1986|\n",
      "| 10201|  Kavraki|     Idoia|11/22/1986|\n",
      "| 10238|     Gire| Mototsugu|11/19/1986|\n",
      "| 10268|   Siochi|    Nishit|12/17/1986|\n",
      "| 10317|    Birge|      Arie|12/10/1986|\n",
      "| 10361|    Sidou|     Seshu|10/23/1986|\n",
      "| 10435| Tagansky|    Marsha|12/19/1986|\n",
      "| 10522| Cesareni|     Marke|12/12/1986|\n",
      "| 10533|Smailagic| Mohamadou|10/31/1986|\n",
      "| 10701| Zolotykh| Hyuncheol|10/27/1986|\n",
      "| 10807| Zallocco|  Munehiro|10/23/1986|\n",
      "| 10832|  Bergere|     Hidde|10/11/1986|\n",
      "| 10856|     Peck| Sreenivas|12/31/1986|\n",
      "| 10962|   Kugler|    Naraig|12/16/1986|\n",
      "| 10975| Birnbaum| Peternela|10/31/1986|\n",
      "| 11010| Narwekar|    Jaques|12/18/1986|\n",
      "| 11012|Speckmann|   Taegyun|12/28/1986|\n",
      "| 11059|  Jarecki|    Shawna|11/17/1986|\n",
      "| 11085|  Thummel|   Hailing|11/27/1986|\n",
      "+------+---------+----------+----------+\n",
      "only showing top 20 rows\n",
      "\n"
     ]
    }
   ],
   "source": [
    "##2. A list showing first name, last name, and hire date for employees who were hired in 1986.\n",
    "\n",
    "spark.sql(\" select emp_no, last_name, first_name, hire_date from employees where cast(substr(hire_date,7,4) as int) = 1986 \").show()\n"
   ]
  },
  {
   "cell_type": "code",
   "execution_count": 14,
   "metadata": {},
   "outputs": [
    {
     "name": "stdout",
     "output_type": "stream",
     "text": [
      "+-------+------------------+------+------------+-----------+\n",
      "|dept_no|         dept_name|emp_no|   last_name| first_name|\n",
      "+-------+------------------+------+------------+-----------+\n",
      "|   d001|         Marketing|110039|    Minakawa|   Vishwani|\n",
      "|   d001|         Marketing|110022|  Markovitch|  Margareta|\n",
      "|   d002|           Finance|110114|  Legleitner|      Isamu|\n",
      "|   d002|           Finance|110085|       Alpin|       Ebru|\n",
      "|   d003|   Human Resources|110183|Ossenbruggen|    Shirish|\n",
      "|   d003|   Human Resources|110228|     Sigstam|    Karsten|\n",
      "|   d004|        Production|110420|    Ghazalie|      Oscar|\n",
      "|   d004|        Production|110344|       Cools|     Rosine|\n",
      "|   d004|        Production|110303|     Wegerle|  Krassimir|\n",
      "|   d004|        Production|110386|      Kieras|       Shem|\n",
      "|   d005|       development|110567|    DasSarma|       Leon|\n",
      "|   d005|       development|110511|    Hagimont|   DeForest|\n",
      "|   d006|Quality Management|110765|     Hofmeyr|     Rutger|\n",
      "|   d006|Quality Management|110800|     Quadeer|     Sanjoy|\n",
      "|   d006|Quality Management|110854|       Pesch|       Dung|\n",
      "|   d006|Quality Management|110725|     Onuegbe|  Peternela|\n",
      "|   d007|             Sales|111035|   Kaelbling|Przemyslawa|\n",
      "|   d007|             Sales|111133|       Zhang|      Hauke|\n",
      "|   d008|          Research|111534|      Kambil|     Hilary|\n",
      "|   d008|          Research|111400|     Staelin|       Arie|\n",
      "+-------+------------------+------+------------+-----------+\n",
      "only showing top 20 rows\n",
      "\n"
     ]
    }
   ],
   "source": [
    "##--3. A list showing the manager of each department with the following information: department number, department name, \n",
    "##--the manager's employee number, last name, first name.\n",
    "\n",
    "spark.sql(\"select distinct dept_manager.dept_no, departments.dept_name, dept_manager.emp_no, employees.last_name, employees.first_name from dept_manager inner join departments on dept_manager.dept_no= departments.dept_no inner join employees on dept_manager.emp_no = employees.emp_no order by dept_manager.dept_no\").show()"
   ]
  },
  {
   "cell_type": "code",
   "execution_count": 15,
   "metadata": {},
   "outputs": [
    {
     "name": "stdout",
     "output_type": "stream",
     "text": [
      "+------+-----------+----------+------------------+\n",
      "|emp_no|  last_name|first_name|         dept_name|\n",
      "+------+-----------+----------+------------------+\n",
      "| 10001|    Facello|    Georgi|       development|\n",
      "| 10002|     Simmel|   Bezalel|             Sales|\n",
      "| 10003|    Bamford|     Parto|        Production|\n",
      "| 10004|    Koblick| Chirstian|        Production|\n",
      "| 10005|   Maliniak|   Kyoichi|   Human Resources|\n",
      "| 10006|    Preusig|    Anneke|       development|\n",
      "| 10007|  Zielinski|   Tzvetan|          Research|\n",
      "| 10008|   Kalloufi|    Saniya|       development|\n",
      "| 10009|       Peac|    Sumant|Quality Management|\n",
      "| 10010|   Piveteau| Duangkaew|Quality Management|\n",
      "| 10010|   Piveteau| Duangkaew|        Production|\n",
      "| 10011|      Sluis|      Mary|  Customer Service|\n",
      "| 10012|  Bridgland|  Patricio|       development|\n",
      "| 10013|     Terkki| Eberhardt|   Human Resources|\n",
      "| 10014|      Genin|     Berni|       development|\n",
      "| 10015|  Nooteboom|  Guoxiang|          Research|\n",
      "| 10016|Cappelletti|  Kazuhito|             Sales|\n",
      "| 10017|  Bouloucos| Cristinel|         Marketing|\n",
      "| 10018|       Peha|  Kazuhide|        Production|\n",
      "| 10018|       Peha|  Kazuhide|       development|\n",
      "+------+-----------+----------+------------------+\n",
      "only showing top 20 rows\n",
      "\n"
     ]
    }
   ],
   "source": [
    "##--4. A list showing the department of each employee with the following information: employee number, last name, first name, and department name.\n",
    "\n",
    "spark.sql(\"select distinct  employees.emp_no, employees.last_name, employees.first_name, departments.dept_name from employees left join dept_emp on employees.emp_no = dept_emp.emp_no inner join departments on dept_emp.dept_no = departments.dept_no order by employees.emp_no\").show()\n",
    "\n"
   ]
  },
  {
   "cell_type": "code",
   "execution_count": 16,
   "metadata": {},
   "outputs": [
    {
     "name": "stdout",
     "output_type": "stream",
     "text": [
      "+-------------+----------+\n",
      "|    last_name|first_name|\n",
      "+-------------+----------+\n",
      "|         Baak|  Hercules|\n",
      "|         Baer|  Hercules|\n",
      "|         Bahr|  Hercules|\n",
      "|         Bail|  Hercules|\n",
      "|         Bain|  Hercules|\n",
      "|   Baranowski|  Hercules|\n",
      "|     Barreiro|  Hercules|\n",
      "|      Basagni|  Hercules|\n",
      "|     Benantar|  Hercules|\n",
      "|   Benzmuller|  Hercules|\n",
      "|Bernardinello|  Hercules|\n",
      "|    Bernatsky|  Hercules|\n",
      "|      Berstel|  Hercules|\n",
      "|        Biran|  Hercules|\n",
      "|        Birge|  Hercules|\n",
      "|        Biron|  Hercules|\n",
      "|      Bisiani|  Hercules|\n",
      "|       Bodoff|  Hercules|\n",
      "|      Brendel|  Hercules|\n",
      "|      Buchter|  Hercules|\n",
      "+-------------+----------+\n",
      "\n"
     ]
    }
   ],
   "source": [
    "## --5.A list showing first name, last name, and sex for employees whose first name is \"Hercules\" and last names begin with \"B.\n",
    "\n",
    "spark.sql(\"select last_name, first_name from employees where (first_name = 'Hercules') and (lower(last_name) like 'b%') order by last_name\").show()"
   ]
  },
  {
   "cell_type": "code",
   "execution_count": 17,
   "metadata": {},
   "outputs": [
    {
     "name": "stdout",
     "output_type": "stream",
     "text": [
      "+------+------------+----------+---------+\n",
      "|emp_no|   last_name|first_name|dept_name|\n",
      "+------+------------+----------+---------+\n",
      "| 10002|      Simmel|   Bezalel|    Sales|\n",
      "| 10016| Cappelletti|  Kazuhito|    Sales|\n",
      "| 10034|        Swan|     Bader|    Sales|\n",
      "| 10041|      Lenart|       Uri|    Sales|\n",
      "| 10050|      Dredge|   Yinghua|    Sales|\n",
      "| 10053|    Zschoche|    Sanjiv|    Sales|\n",
      "| 10060| Billingsley|  Breannda|    Sales|\n",
      "| 10061|      Herber|       Tse|    Sales|\n",
      "| 10068|     Brattka|  Charlene|    Sales|\n",
      "| 10087|     Eugenio|   Xinglin|    Sales|\n",
      "| 10088|    Syrzycki|  Jungsoon|    Sales|\n",
      "| 10089|Flasterstein| Sudharsan|    Sales|\n",
      "| 10093|     Desikan|   Sailaja|    Sales|\n",
      "| 10095|      Morton|    Hilari|    Sales|\n",
      "| 10099|     Sullins|    Valter|    Sales|\n",
      "| 10101|      Heyers|     Perla|    Sales|\n",
      "| 10107|        Baca|      Dung|    Sales|\n",
      "| 10125|     Hiltgen|     Syozo|    Sales|\n",
      "| 10136|    Pintelas|    Zissis|    Sales|\n",
      "| 10148|       Azumi|    Douadi|    Sales|\n",
      "+------+------------+----------+---------+\n",
      "only showing top 20 rows\n",
      "\n"
     ]
    }
   ],
   "source": [
    "##--6 A list showing all employees in the Sales department, including their employee number, last name, first name, and department name.\n",
    "spark.sql(\"select employees.emp_no, employees.last_name, employees.first_name, departments.dept_name from employees inner join dept_emp on dept_emp.emp_no = employees.emp_no inner join departments on dept_emp.dept_no= departments.dept_no where lower(departments.dept_name) = 'sales'\").show()"
   ]
  },
  {
   "cell_type": "code",
   "execution_count": 18,
   "metadata": {},
   "outputs": [
    {
     "name": "stdout",
     "output_type": "stream",
     "text": [
      "+------+-----------+----------+-----------+\n",
      "|emp_no|  last_name|first_name|  dept_name|\n",
      "+------+-----------+----------+-----------+\n",
      "| 10001|    Facello|    Georgi|development|\n",
      "| 10002|     Simmel|   Bezalel|      Sales|\n",
      "| 10006|    Preusig|    Anneke|development|\n",
      "| 10008|   Kalloufi|    Saniya|development|\n",
      "| 10012|  Bridgland|  Patricio|development|\n",
      "| 10014|      Genin|     Berni|development|\n",
      "| 10016|Cappelletti|  Kazuhito|      Sales|\n",
      "| 10018|       Peha|  Kazuhide|development|\n",
      "| 10021|       Erde|     Ramzi|development|\n",
      "| 10022|     Famili|    Shahaf|development|\n",
      "| 10023| Montemayor|     Bojan|development|\n",
      "| 10025|     Heyers| Prasadram|development|\n",
      "| 10027|    Reistad|    Divier|development|\n",
      "| 10028|   Tempesti|  Domenick|development|\n",
      "| 10031|     Joslin|   Karsten|development|\n",
      "| 10034|       Swan|     Bader|      Sales|\n",
      "| 10037|   Makrucki|   Pradeep|development|\n",
      "| 10040|    Meriste|     Weiyi|development|\n",
      "| 10041|     Lenart|       Uri|      Sales|\n",
      "| 10043|    Tzvieli|    Yishay|development|\n",
      "+------+-----------+----------+-----------+\n",
      "only showing top 20 rows\n",
      "\n"
     ]
    }
   ],
   "source": [
    "##--7 A list showing all employees in the Sales and Development departments, including their employee number, last name, first name, and department name.\n",
    "\n",
    "spark.sql(\"select employees.emp_no, employees.last_name, employees.first_name, departments.dept_name from employees inner join dept_emp on dept_emp.emp_no = employees.emp_no inner join departments on dept_emp.dept_no= departments.dept_no where (lower(departments.dept_name) = 'sales') or (lower(departments.dept_name) = 'development')\").show()"
   ]
  },
  {
   "cell_type": "code",
   "execution_count": 19,
   "metadata": {},
   "outputs": [
    {
     "name": "stdout",
     "output_type": "stream",
     "text": [
      "+-----------+---------+\n",
      "|  last_name|Frequency|\n",
      "+-----------+---------+\n",
      "|       Baba|      226|\n",
      "|      Coorg|      223|\n",
      "|     Gelosh|      223|\n",
      "|     Farris|      222|\n",
      "|    Sudbeck|      222|\n",
      "|     Adachi|      221|\n",
      "|     Osgood|      220|\n",
      "|    Mandell|      218|\n",
      "|     Masada|      218|\n",
      "|     Neiman|      218|\n",
      "|Boudaillier|      217|\n",
      "|    Wendorf|      217|\n",
      "|     Pettis|      216|\n",
      "|    Solares|      216|\n",
      "|   Cummings|      216|\n",
      "|     Mahnke|      216|\n",
      "|   Collette|      215|\n",
      "|     Emmart|      215|\n",
      "|   Birjandi|      215|\n",
      "|    Kulisch|      215|\n",
      "+-----------+---------+\n",
      "only showing top 20 rows\n",
      "\n"
     ]
    }
   ],
   "source": [
    "##--8 A list showing the frequency count of employee last names, in descending order. ( i.e., how many employees share each last name\n",
    "\n",
    "spark.sql(\"select last_name,count(last_name) as Frequency from employees group by last_name order by Frequency desc\").show()"
   ]
  },
  {
   "cell_type": "code",
   "execution_count": 20,
   "metadata": {},
   "outputs": [
    {
     "data": {
      "image/png": "[encoded data removed]",
      "text/plain": [
       "<Figure size 432x288 with 1 Axes>"
      ]
     },
     "metadata": {
      "needs_background": "light"
     },
     "output_type": "display_data"
    }
   ],
   "source": [
    "##Histogram to show the salary distribution among the employees\n",
    "\n",
    "sns.distplot(spark.sql(\"select emp_no, salary from salaries\").toPandas(),norm_hist = True)\n",
    "plt.show()"
   ]
  },
  {
   "cell_type": "code",
   "execution_count": 21,
   "metadata": {
    "scrolled": true
   },
   "outputs": [
    {
     "data": {
      "text/html": [
       "<div>\n",
       "<style scoped>\n",
       "    .dataframe tbody tr th:only-of-type {\n",
       "        vertical-align: middle;\n",
       "    }\n",
       "\n",
       "    .dataframe tbody tr th {\n",
       "        vertical-align: top;\n",
       "    }\n",
       "\n",
       "    .dataframe thead th {\n",
       "        text-align: right;\n",
       "    }\n",
       "</style>\n",
       "<table border=\"1\" class=\"dataframe\">\n",
       "  <thead>\n",
       "    <tr style=\"text-align: right;\">\n",
       "      <th></th>\n",
       "      <th>avgsalary</th>\n",
       "      <th>title</th>\n",
       "    </tr>\n",
       "  </thead>\n",
       "  <tbody>\n",
       "    <tr>\n",
       "      <th>0</th>\n",
       "      <td>48506.799871</td>\n",
       "      <td>Senior Engineer</td>\n",
       "    </tr>\n",
       "    <tr>\n",
       "      <th>1</th>\n",
       "      <td>48535.336511</td>\n",
       "      <td>Engineer</td>\n",
       "    </tr>\n",
       "    <tr>\n",
       "      <th>2</th>\n",
       "      <td>48564.434447</td>\n",
       "      <td>Assistant Engineer</td>\n",
       "    </tr>\n",
       "    <tr>\n",
       "      <th>3</th>\n",
       "      <td>48582.896092</td>\n",
       "      <td>Technique Leader</td>\n",
       "    </tr>\n",
       "    <tr>\n",
       "      <th>4</th>\n",
       "      <td>51531.041667</td>\n",
       "      <td>Manager</td>\n",
       "    </tr>\n",
       "    <tr>\n",
       "      <th>5</th>\n",
       "      <td>58465.382850</td>\n",
       "      <td>Staff</td>\n",
       "    </tr>\n",
       "    <tr>\n",
       "      <th>6</th>\n",
       "      <td>58550.172704</td>\n",
       "      <td>Senior Staff</td>\n",
       "    </tr>\n",
       "  </tbody>\n",
       "</table>\n",
       "</div>"
      ],
      "text/plain": [
       "      avgsalary               title\n",
       "0  48506.799871     Senior Engineer\n",
       "1  48535.336511            Engineer\n",
       "2  48564.434447  Assistant Engineer\n",
       "3  48582.896092    Technique Leader\n",
       "4  51531.041667             Manager\n",
       "5  58465.382850               Staff\n",
       "6  58550.172704        Senior Staff"
      ]
     },
     "execution_count": 21,
     "metadata": {},
     "output_type": "execute_result"
    }
   ],
   "source": [
    "##Bar graph to show the Average salary per title (designation)\n",
    "\n",
    "Average_Salary = spark.sql(\"select avg(salaries.salary) as avgsalary, titles.title from employees inner join salaries on salaries.emp_no = employees.emp_no inner join titles on employees.emp_title_id= titles.title_id group by titles.title order by avgsalary\").toPandas()\n",
    "Average_Salary"
   ]
  },
  {
   "cell_type": "code",
   "execution_count": 38,
   "metadata": {},
   "outputs": [
    {
     "data": {
      "image/png": "[encoded data removed]",
      "text/plain": [
       "<Figure size 1080x576 with 1 Axes>"
      ]
     },
     "metadata": {},
     "output_type": "display_data"
    }
   ],
   "source": [
    "sns.barplot(x = Average_Salary.title,y = Average_Salary.avgsalary)\n",
    "sns.set(rc={'figure.figsize':(16,8)})"
   ]
  },
  {
   "cell_type": "code",
   "execution_count": 60,
   "metadata": {
    "scrolled": false
   },
   "outputs": [
    {
     "data": {
      "image/png": "[encoded data removed]",
      "text/plain": [
       "<Figure size 1008x576 with 1 Axes>"
      ]
     },
     "metadata": {},
     "output_type": "display_data"
    }
   ],
   "source": [
    "#gender based number of employees\n",
    "Gender = spark.sql(\"select sex as Gender,count(sex) as No_of_employees from employees group by sex order by No_of_employees desc\").toPandas()\n",
    "ax = sns.barplot(x=\"Gender\", y=\"No_of_employees\", hue=\"Gender\", data=Gender)"
   ]
  },
  {
   "cell_type": "code",
   "execution_count": 66,
   "metadata": {
    "scrolled": true
   },
   "outputs": [
    {
     "data": {
      "text/plain": [
       "<matplotlib.axes._subplots.AxesSubplot at 0x7fb0717e4350>"
      ]
     },
     "execution_count": 66,
     "metadata": {},
     "output_type": "execute_result"
    },
    {
     "data": {
      "image/png": "[encoded data removed]",
      "text/plain": [
       "<Figure size 1152x576 with 1 Axes>"
      ]
     },
     "metadata": {},
     "output_type": "display_data"
    }
   ],
   "source": [
    "#average salary per department\n",
    "Avg_Salary = spark.sql(\"select departments.dept_name, avg(salaries.salary) as Avg_Salary from departments inner join dept_emp on departments.dept_no = dept_emp.dept_no inner join employees on dept_emp.emp_no = employees.emp_no inner join  salaries on employees.emp_no=salaries.emp_no group by departments.dept_name\").toPandas()\n",
    "plt.rcParams['figure.figsize'] = (16,8)\n",
    "sns.barplot(x='dept_name',y='Avg_Salary',data = Avg_Salary)"
   ]
  },
  {
   "cell_type": "code",
   "execution_count": 62,
   "metadata": {},
   "outputs": [
    {
     "data": {
      "text/plain": [
       "<matplotlib.axes._subplots.AxesSubplot at 0x7fb071982b10>"
      ]
     },
     "execution_count": 62,
     "metadata": {},
     "output_type": "execute_result"
    },
    {
     "data": {
      "image/png": "[encoded data removed]",
      "text/plain": [
       "<Figure size 1008x576 with 1 Axes>"
      ]
     },
     "metadata": {},
     "output_type": "display_data"
    }
   ],
   "source": [
    "#average salary gender wise\n",
    "gender_wise_average_salary = spark.sql(\"select employees.sex as Gender, avg(salaries.salary) as Avg_Salary from employees inner join salaries on employees.emp_no=salaries.emp_no group by employees.sex\").toPandas()\n",
    "plt.rcParams['figure.figsize'] = (14,8)\n",
    "sns.barplot(x='Gender',y='Avg_Salary',data = gender_wise_average_salary )"
   ]
  },
  {
   "cell_type": "markdown",
   "metadata": {},
   "source": [
    "# Machine learning"
   ]
  },
  {
   "cell_type": "code",
   "execution_count": 146,
   "metadata": {},
   "outputs": [],
   "source": [
    "# importing all the necessary libraries\n",
    "from pyspark.ml.feature import StringIndexer, VectorAssembler, OneHotEncoder\n",
    "from pyspark.sql.functions import *\n",
    "from pyspark.ml.feature import Imputer\n",
    "from pyspark.ml.classification import RandomForestClassifier\n",
    "from pyspark.ml.evaluation import MulticlassClassificationEvaluator\n",
    "from pyspark.ml import Pipeline"
   ]
  },
  {
   "cell_type": "code",
   "execution_count": 85,
   "metadata": {},
   "outputs": [
    {
     "name": "stdout",
     "output_type": "stream",
     "text": [
      "+-------+------------+---+--------------+-----------------------+-----+------------------+------+------------------+\n",
      "|dept_no|emp_title_id|sex|no_of_projects|Last_performance_rating|left_|         dept_name|salary|             title|\n",
      "+-------+------------+---+--------------+-----------------------+-----+------------------+------+------------------+\n",
      "|   d005|       e0003|  M|             9|                      C| true|       development| 60117|   Senior Engineer|\n",
      "|   d007|       s0001|  F|             8|                      B|false|             Sales| 65828|             Staff|\n",
      "|   d004|       e0003|  M|             1|                      C|false|        Production| 40006|   Senior Engineer|\n",
      "|   d004|       e0003|  M|             5|                      A|false|        Production| 40054|   Senior Engineer|\n",
      "|   d003|       s0001|  M|             6|                      A|false|   Human Resources| 78228|             Staff|\n",
      "|   d005|       e0003|  F|            10|                      B|false|       development| 40000|   Senior Engineer|\n",
      "|   d008|       s0001|  F|             6|                      B| true|          Research| 56724|             Staff|\n",
      "|   d005|       e0001|  M|             9|                      C|false|       development| 46671|Assistant Engineer|\n",
      "|   d006|       e0003|  F|             8|                      B|false|Quality Management| 60929|   Senior Engineer|\n",
      "|   d006|       e0002|  F|             4|                      A|false|Quality Management| 72488|          Engineer|\n",
      "|   d004|       e0002|  F|             4|                      A|false|        Production| 72488|          Engineer|\n",
      "|   d009|       s0001|  F|             6|                      C|false|  Customer Service| 42365|             Staff|\n",
      "|   d005|       e0003|  M|             3|                      A|false|       development| 40000|   Senior Engineer|\n",
      "|   d003|       s0002|  M|             6|                      C|false|   Human Resources| 40000|      Senior Staff|\n",
      "|   d005|       e0002|  M|             9|                      B|false|       development| 46168|          Engineer|\n",
      "|   d008|       s0002|  M|             4|                      B|false|          Research| 40000|      Senior Staff|\n",
      "|   d007|       s0001|  M|             5|                      C|false|             Sales| 70889|             Staff|\n",
      "|   d001|       s0001|  F|            10|                      A|false|         Marketing| 71380|             Staff|\n",
      "|   d005|       e0003|  F|             4|                      B|false|       development| 55881|   Senior Engineer|\n",
      "|   d004|       e0003|  F|             4|                      B|false|        Production| 55881|   Senior Engineer|\n",
      "+-------+------------+---+--------------+-----------------------+-----+------------------+------+------------------+\n",
      "only showing top 20 rows\n",
      "\n"
     ]
    }
   ],
   "source": [
    "## dropping all the irrelevant columns for predicting the target variable\n",
    "df = df_new.drop('emp_no', 'birth_date','first_name', 'last_name', 'hire_date', 'last_date','title_id')\n",
    "df.show()"
   ]
  },
  {
   "cell_type": "code",
   "execution_count": 155,
   "metadata": {},
   "outputs": [
    {
     "name": "stdout",
     "output_type": "stream",
     "text": [
      "+---+--------------+-----------------------+-----+------+------------------+\n",
      "|sex|no_of_projects|Last_performance_rating|left_|salary|         dept_name|\n",
      "+---+--------------+-----------------------+-----+------+------------------+\n",
      "|  M|             9|                      C|  1.0| 60117|       development|\n",
      "|  F|             8|                      B|  0.0| 65828|             Sales|\n",
      "|  M|             1|                      C|  0.0| 40006|        Production|\n",
      "|  M|             5|                      A|  0.0| 40054|        Production|\n",
      "|  M|             6|                      A|  0.0| 78228|   Human Resources|\n",
      "|  F|            10|                      B|  0.0| 40000|       development|\n",
      "|  F|             6|                      B|  1.0| 56724|          Research|\n",
      "|  M|             9|                      C|  0.0| 46671|       development|\n",
      "|  F|             8|                      B|  0.0| 60929|Quality Management|\n",
      "|  F|             4|                      A|  0.0| 72488|Quality Management|\n",
      "+---+--------------+-----------------------+-----+------+------------------+\n",
      "only showing top 10 rows\n",
      "\n"
     ]
    }
   ],
   "source": [
    "df = spark.sql(\"select emp.sex,emp.no_of_projects,emp.Last_performance_rating,cast(emp.left_ as float),salaries.salary, dpt.dept_name from employees as emp \\\n",
    "                inner join dept_emp on emp.emp_no = dept_emp.emp_no \\\n",
    "                inner join departments as dpt on dept_emp.dept_no = dpt.dept_no \\\n",
    "                inner join titles on emp.emp_title_id = titles.title_id \\\n",
    "                inner join salaries on emp.emp_no = salaries.emp_no\").persist()\n",
    "df.show(10)"
   ]
  },
  {
   "cell_type": "code",
   "execution_count": 156,
   "metadata": {},
   "outputs": [
    {
     "name": "stdout",
     "output_type": "stream",
     "text": [
      "root\n",
      " |-- sex: string (nullable = true)\n",
      " |-- no_of_projects: integer (nullable = true)\n",
      " |-- Last_performance_rating: string (nullable = true)\n",
      " |-- left_: float (nullable = true)\n",
      " |-- salary: integer (nullable = true)\n",
      " |-- dept_name: string (nullable = true)\n",
      "\n"
     ]
    }
   ],
   "source": [
    "df.printSchema()"
   ]
  },
  {
   "cell_type": "code",
   "execution_count": 157,
   "metadata": {},
   "outputs": [],
   "source": [
    "##identifying the continuous and categorical variables\n",
    "continuous_features = ['no_of_projects','salary']\n",
    "                    \n",
    "categorical_features = ['sex','Last_performance_rating','dept_name']"
   ]
  },
  {
   "cell_type": "markdown",
   "metadata": {},
   "source": [
    "# String Indexer"
   ]
  },
  {
   "cell_type": "code",
   "execution_count": 158,
   "metadata": {},
   "outputs": [],
   "source": [
    "df = StringIndexer(inputCol='sex', outputCol='sex_strindx').fit(df).transform(df)\n",
    "df = StringIndexer(inputCol='Last_performance_rating', outputCol='Last_performance_rating_strindx').fit(df).transform(df)\n",
    "df = StringIndexer(inputCol='dept_name', outputCol='dept_name_strindx').fit(df).transform(df)"
   ]
  },
  {
   "cell_type": "markdown",
   "metadata": {},
   "source": [
    "# Vector Assembler"
   ]
  },
  {
   "cell_type": "code",
   "execution_count": 159,
   "metadata": {},
   "outputs": [],
   "source": [
    "featureCols = continuous_features + ['sex_strindx', 'Last_performance_rating_strindx','dept_name_strindx'] "
   ]
  },
  {
   "cell_type": "code",
   "execution_count": 160,
   "metadata": {},
   "outputs": [],
   "source": [
    "assembler = VectorAssembler( inputCols = featureCols, outputCol = \"features\")"
   ]
  },
  {
   "cell_type": "code",
   "execution_count": 161,
   "metadata": {},
   "outputs": [],
   "source": [
    "df = assembler.transform(df)"
   ]
  },
  {
   "cell_type": "markdown",
   "metadata": {},
   "source": [
    "# Train-Test Split"
   ]
  },
  {
   "cell_type": "code",
   "execution_count": 162,
   "metadata": {},
   "outputs": [],
   "source": [
    "train_df, test_df = df.randomSplit( [0.7, 0.3], seed = 42)"
   ]
  },
  {
   "cell_type": "markdown",
   "metadata": {},
   "source": [
    "# Model Building"
   ]
  },
  {
   "cell_type": "code",
   "execution_count": 163,
   "metadata": {},
   "outputs": [],
   "source": [
    "rf_model = RandomForestClassifier(featuresCol=\"features\",\n",
    "                              labelCol=\"left_\",\n",
    "                              numTrees=50,\n",
    "                              maxDepth=5,\n",
    "                              featureSubsetStrategy='onethird')\n",
    "rf_model = rf_model.fit(train_df)"
   ]
  },
  {
   "cell_type": "code",
   "execution_count": 164,
   "metadata": {},
   "outputs": [
    {
     "name": "stdout",
     "output_type": "stream",
     "text": [
      "+---+--------------+-----------------------+-----+------+----------------+-----------+-------------------------------+-----------------+--------------------+--------------------+--------------------+----------+\n",
      "|sex|no_of_projects|Last_performance_rating|left_|salary|       dept_name|sex_strindx|Last_performance_rating_strindx|dept_name_strindx|            features|       rawPrediction|         probability|prediction|\n",
      "+---+--------------+-----------------------+-----+------+----------------+-----------+-------------------------------+-----------------+--------------------+--------------------+--------------------+----------+\n",
      "|  F|             1|                      A|  0.0| 40000|Customer Service|        1.0|                            1.0|              3.0|[1.0,40000.0,1.0,...|[45.0227145405183...|[0.90045429081036...|       0.0|\n",
      "|  F|             1|                      A|  0.0| 40000|Customer Service|        1.0|                            1.0|              3.0|[1.0,40000.0,1.0,...|[45.0227145405183...|[0.90045429081036...|       0.0|\n",
      "|  F|             1|                      A|  0.0| 40000|Customer Service|        1.0|                            1.0|              3.0|[1.0,40000.0,1.0,...|[45.0227145405183...|[0.90045429081036...|       0.0|\n",
      "|  F|             1|                      A|  0.0| 40000|Customer Service|        1.0|                            1.0|              3.0|[1.0,40000.0,1.0,...|[45.0227145405183...|[0.90045429081036...|       0.0|\n",
      "|  F|             1|                      A|  0.0| 40000|Customer Service|        1.0|                            1.0|              3.0|[1.0,40000.0,1.0,...|[45.0227145405183...|[0.90045429081036...|       0.0|\n",
      "|  F|             1|                      A|  0.0| 40000|Customer Service|        1.0|                            1.0|              3.0|[1.0,40000.0,1.0,...|[45.0227145405183...|[0.90045429081036...|       0.0|\n",
      "|  F|             1|                      A|  0.0| 40000|Customer Service|        1.0|                            1.0|              3.0|[1.0,40000.0,1.0,...|[45.0227145405183...|[0.90045429081036...|       0.0|\n",
      "|  F|             1|                      A|  0.0| 40000|Customer Service|        1.0|                            1.0|              3.0|[1.0,40000.0,1.0,...|[45.0227145405183...|[0.90045429081036...|       0.0|\n",
      "|  F|             1|                      A|  0.0| 40000|Customer Service|        1.0|                            1.0|              3.0|[1.0,40000.0,1.0,...|[45.0227145405183...|[0.90045429081036...|       0.0|\n",
      "|  F|             1|                      A|  0.0| 40000|Customer Service|        1.0|                            1.0|              3.0|[1.0,40000.0,1.0,...|[45.0227145405183...|[0.90045429081036...|       0.0|\n",
      "|  F|             1|                      A|  0.0| 40000|Customer Service|        1.0|                            1.0|              3.0|[1.0,40000.0,1.0,...|[45.0227145405183...|[0.90045429081036...|       0.0|\n",
      "|  F|             1|                      A|  0.0| 40000|Customer Service|        1.0|                            1.0|              3.0|[1.0,40000.0,1.0,...|[45.0227145405183...|[0.90045429081036...|       0.0|\n",
      "|  F|             1|                      A|  0.0| 40000|Customer Service|        1.0|                            1.0|              3.0|[1.0,40000.0,1.0,...|[45.0227145405183...|[0.90045429081036...|       0.0|\n",
      "|  F|             1|                      A|  0.0| 40000|Customer Service|        1.0|                            1.0|              3.0|[1.0,40000.0,1.0,...|[45.0227145405183...|[0.90045429081036...|       0.0|\n",
      "|  F|             1|                      A|  0.0| 40000|Customer Service|        1.0|                            1.0|              3.0|[1.0,40000.0,1.0,...|[45.0227145405183...|[0.90045429081036...|       0.0|\n",
      "|  F|             1|                      A|  0.0| 40000|Customer Service|        1.0|                            1.0|              3.0|[1.0,40000.0,1.0,...|[45.0227145405183...|[0.90045429081036...|       0.0|\n",
      "|  F|             1|                      A|  0.0| 40000|Customer Service|        1.0|                            1.0|              3.0|[1.0,40000.0,1.0,...|[45.0227145405183...|[0.90045429081036...|       0.0|\n",
      "|  F|             1|                      A|  0.0| 40000|Customer Service|        1.0|                            1.0|              3.0|[1.0,40000.0,1.0,...|[45.0227145405183...|[0.90045429081036...|       0.0|\n",
      "|  F|             1|                      A|  0.0| 40000|Customer Service|        1.0|                            1.0|              3.0|[1.0,40000.0,1.0,...|[45.0227145405183...|[0.90045429081036...|       0.0|\n",
      "|  F|             1|                      A|  0.0| 40000|Customer Service|        1.0|                            1.0|              3.0|[1.0,40000.0,1.0,...|[45.0227145405183...|[0.90045429081036...|       0.0|\n",
      "+---+--------------+-----------------------+-----+------+----------------+-----------+-------------------------------+-----------------+--------------------+--------------------+--------------------+----------+\n",
      "only showing top 20 rows\n",
      "\n"
     ]
    }
   ],
   "source": [
    "pred = rf_model.transform(test_df)\n",
    "pred.show()"
   ]
  },
  {
   "cell_type": "code",
   "execution_count": 168,
   "metadata": {},
   "outputs": [],
   "source": [
    "def train(train, test, classifier):\n",
    "    (train, test) = df.randomSplit([0.7,0.3])\n",
    "    print(classifier)\n",
    "    model = classifier.fit(train)\n",
    "\n",
    "    pred = model.transform(test)\n",
    "\n",
    "    eval_accuracy = (MulticlassClassificationEvaluator\n",
    "        (labelCol=\"left_\", predictionCol=\"prediction\", metricName=\"accuracy\"))\n",
    "\n",
    "    eval_precision = (MulticlassClassificationEvaluator\n",
    "        (labelCol=\"left_\", predictionCol=\"prediction\", metricName=\"weightedPrecision\"))\n",
    "\n",
    "    eval_recall = (MulticlassClassificationEvaluator\n",
    "        (labelCol=\"left_\", predictionCol=\"prediction\", metricName=\"weightedRecall\"))\n",
    "\n",
    "    eval_f1 = (MulticlassClassificationEvaluator\n",
    "        (labelCol=\"left_\", predictionCol=\"prediction\", metricName=\"f1\"))\n",
    "\n",
    "    accuracy = eval_accuracy.evaluate(pred)\n",
    "\n",
    "    precision =  eval_precision.evaluate(pred)\n",
    "\n",
    "    recall =  eval_recall.evaluate(pred)\n",
    "\n",
    "    f1 =  eval_f1.evaluate(pred)\n",
    "\n",
    "    print(f\"\"\"\n",
    "    Accuracy  = {accuracy}\n",
    "    Error     = {1-accuracy}\n",
    "    Precision = {precision}\n",
    "    Recall    = {recall}\n",
    "    F1        = {f1}\"\"\")\n",
    "\n",
    "    return model, pred"
   ]
  },
  {
   "cell_type": "code",
   "execution_count": 169,
   "metadata": {},
   "outputs": [],
   "source": [
    "rf_model2 = RandomForestClassifier(featuresCol=\"features\",\n",
    "                              labelCol=\"left_\",\n",
    "                              numTrees=50,\n",
    "                              maxDepth=5,\n",
    "                              featureSubsetStrategy='onethird')"
   ]
  },
  {
   "cell_type": "code",
   "execution_count": 170,
   "metadata": {},
   "outputs": [
    {
     "name": "stdout",
     "output_type": "stream",
     "text": [
      "RandomForestClassifier_d1404c3f65cf\n",
      "\n",
      "    Accuracy  = 0.901215775031546\n",
      "    Error     = 0.09878422496845396\n",
      "    Precision = 0.8121898731657101\n",
      "    Recall    = 0.901215775031546\n",
      "    F1        = 0.8543900001589603\n",
      "+----------+-----+--------------------+\n",
      "|prediction|left_|            features|\n",
      "+----------+-----+--------------------+\n",
      "|       0.0|  0.0|[1.0,40000.0,1.0,...|\n",
      "|       0.0|  0.0|[1.0,40000.0,1.0,...|\n",
      "|       0.0|  0.0|[1.0,40000.0,1.0,...|\n",
      "|       0.0|  0.0|[1.0,40000.0,1.0,...|\n",
      "|       0.0|  0.0|[1.0,40000.0,1.0,...|\n",
      "|       0.0|  0.0|[1.0,40000.0,1.0,...|\n",
      "|       0.0|  0.0|[1.0,40000.0,1.0,...|\n",
      "|       0.0|  0.0|[1.0,40000.0,1.0,...|\n",
      "|       0.0|  0.0|[1.0,40000.0,1.0,...|\n",
      "|       0.0|  0.0|[1.0,40000.0,1.0,...|\n",
      "+----------+-----+--------------------+\n",
      "only showing top 10 rows\n",
      "\n"
     ]
    }
   ],
   "source": [
    "_ , pred2 = train(train_df, test_df, rf_model2)\n",
    "\n",
    "pred2.select(\"prediction\", \"left_\", \"features\").show(10)"
   ]
  },
  {
   "cell_type": "markdown",
   "metadata": {},
   "source": [
    "#### Accuracy for the model is 90%. So, we can conclude that the performance of model is good."
   ]
  },
  {
   "cell_type": "markdown",
   "metadata": {},
   "source": [
    "# Pipeline"
   ]
  },
  {
   "cell_type": "code",
   "execution_count": 171,
   "metadata": {},
   "outputs": [],
   "source": [
    "# getting tables\n",
    "df2 = spark.sql(\"select emp.sex,emp.no_of_projects,emp.Last_performance_rating,salaries.salary, dpt.dept_name from employees as emp \\\n",
    "                inner join dept_emp on emp.emp_no = dept_emp.emp_no \\\n",
    "                inner join departments as dpt on dept_emp.dept_no = dpt.dept_no \\\n",
    "                inner join titles on emp.emp_title_id = titles.title_id \\\n",
    "                inner join salaries on emp.emp_no = salaries.emp_no\").persist()\n",
    "\n",
    "# dropping irrelevant columns\n",
    "df2 = df2.drop('emp_no', 'first_name', 'last_name', 'birth_date', 'hire_date', 'last_date', 'emp_title_id')\n",
    "\n",
    "# Vector Assembler\n",
    "Vect_InpCol = ['sex_strindx', 'Last_performance_rating_strindx', 'dept_name_strindx', 'salary']\n",
    "\n",
    "# setting label column\n",
    "df2 = df2.withColumnRenamed('left_','label')"
   ]
  },
  {
   "cell_type": "markdown",
   "metadata": {},
   "source": [
    "# Staging"
   ]
  },
  {
   "cell_type": "code",
   "execution_count": 173,
   "metadata": {},
   "outputs": [],
   "source": [
    "# String Indexer\n",
    "sex_indexer = StringIndexer(inputCol='sex', outputCol='sex_strindx')\n",
    "Last_performance_rating_indexer = StringIndexer(inputCol='last_performance_rating', outputCol='Last_performance_rating_strindx')\n",
    "dept_name_indexer = StringIndexer(inputCol='dept_name', outputCol='dept_name_strindx')\n",
    "\n",
    "# Vector Assembler\n",
    "assembler = VectorAssembler(inputCols = Vect_InpCol, outputCol = \"features\")\n",
    "\n",
    "# ML Model\n",
    "rf_model = RandomForestClassifier(featuresCol=\"features\",\n",
    "                              labelCol=\"label\",\n",
    "                              numTrees=50,\n",
    "                              maxDepth=5,\n",
    "                              featureSubsetStrategy='onethird')\n",
    "\n",
    "# Creating Pipeline\n",
    "pipeline = Pipeline(stages= [sex_indexer, Last_performance_rating_indexer, dept_name_indexer, assembler, rf_model])"
   ]
  },
  {
   "cell_type": "code",
   "execution_count": null,
   "metadata": {},
   "outputs": [],
   "source": []
  }
 ],
 "metadata": {
  "kernelspec": {
   "display_name": "Python 3",
   "language": "python",
   "name": "python3"
  },
  "language_info": {
   "codemirror_mode": {
    "name": "ipython",
    "version": 3
   },
   "file_extension": ".py",
   "mimetype": "text/x-python",
   "name": "python",
   "nbconvert_exporter": "python",
   "pygments_lexer": "ipython3",
   "version": "3.7.6"
  }
 },
 "nbformat": 4,
 "nbformat_minor": 4
}
